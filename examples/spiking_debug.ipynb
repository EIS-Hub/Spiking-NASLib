{
 "cells": [
  {
   "cell_type": "markdown",
   "metadata": {},
   "source": [
    "## Auxillary functions and imports"
   ]
  },
  {
   "cell_type": "code",
   "execution_count": 1,
   "metadata": {},
   "outputs": [
    {
     "name": "stdout",
     "output_type": "stream",
     "text": [
      "importing search_spaces\n"
     ]
    },
    {
     "data": {
      "text/plain": [
       "naslib.search_spaces.nasbenchspikingasr.graph.NasBenchSpikingASRSearchSpace"
      ]
     },
     "execution_count": 1,
     "metadata": {},
     "output_type": "execute_result"
    }
   ],
   "source": [
    "import sys\n",
    "sys.path.append(\"/home/mikhail/Spiking-NASLib/\")\n",
    "\n",
    "\n",
    "import naslib\n",
    "naslib.search_spaces.NasBenchSpikingASRSearchSpace"
   ]
  },
  {
   "cell_type": "code",
   "execution_count": 2,
   "metadata": {},
   "outputs": [],
   "source": [
    "%load_ext autoreload\n",
    "%autoreload 2\n",
    "\n",
    "import logging\n",
    "import torch\n",
    "import numpy as np\n",
    "\n",
    "import matplotlib.pyplot as plt\n",
    "from matplotlib.cm import ScalarMappable\n",
    "import seaborn as sns\n",
    "\n",
    "\n",
    "import sys\n",
    "sys.path.append(\"..\")\n",
    "import os\n",
    "import logging\n",
    "\n",
    "import naslib\n",
    "# from naslib.optimizers import DARTSOptimizer\n",
    "# from naslib.search_spaces import NasBenchSpikingASRSearchSpace #NasBenchASRSearchSpace #NasBench301SearchSpace#NasBenchNLPSearchSpace\n",
    "# from naslib.utils import set_seed, setup_logger, get_config_from_args, create_exp_dir\n",
    "\n",
    "# from naslib import utils\n",
    "# from naslib.defaults.trainer import Trainer\n",
    "from torch.utils.tensorboard import SummaryWriter\n",
    "import torch\n",
    "\n",
    "\n",
    "def get_edge_info(optimizer, arch_weights, config):\n",
    "    edge_info = {}\n",
    "    min_soft, max_soft = np.inf, -np.inf\n",
    "\n",
    "    alpha_idx = 0\n",
    "    for graph in optimizer.graph._get_child_graphs(single_instances=True):\n",
    "        for u, v, edge_data in graph.edges.data():\n",
    "            if edge_data.has(\"alpha\"):\n",
    "                edge_weights = arch_weights[alpha_idx]\n",
    "\n",
    "                steps, num_alphas = edge_weights.shape\n",
    "                steps_per_epoch = steps // config.search.epochs\n",
    "\n",
    "                disc_weights = torch.mean(edge_weights.detach().reshape(-1, steps_per_epoch, num_alphas), axis=1).cpu()    \n",
    "                soft_weights = torch.softmax(disc_weights, dim=-1).numpy()\n",
    "                \n",
    "                cell_name = edge_data['cell_name'] if hasattr(edge_data, 'cell_name') else \"\"\n",
    "                edge_info[(u, v, cell_name)] = {}\n",
    "                edge_info[(u, v, cell_name)]['op_names'] = [op.get_op_name for op in edge_data.op.get_embedded_ops()]\n",
    "                edge_info[(u, v, cell_name)]['alphas'] = soft_weights\n",
    "\n",
    "                min_soft = min(min_soft, np.min(soft_weights))\n",
    "                max_soft = max(max_soft, np.max(soft_weights))\n",
    "\n",
    "                alpha_idx += 1\n",
    "\n",
    "    return edge_info, min_soft, max_soft\n",
    "\n",
    "\n",
    "def plot_architectural_weights(config, optimizer, max_rows=4):\n",
    "    arch_weights = [torch.load(f'{config.save}/arch_weights.pt')] # load alphas\n",
    "\n",
    "    # get dictionary of \n",
    "    edge_info, min_soft, max_soft = get_edge_info(optimizer, arch_weights, config)\n",
    "\n",
    "    for start_id in range(0, len(edge_info.keys()), max_rows):\n",
    "        \n",
    "        # calculate number of rows in plot\n",
    "        n_rows = min(max_rows, len(edge_info.keys())-start_id)\n",
    "        logger.info(f\"Creating plot {config.save}/arch_weights_{start_id+1}to{start_id+n_rows}.png\")\n",
    "\n",
    "        # define figure and axes and NASLib colormap\n",
    "        fig, axes = plt.subplots(nrows=n_rows, figsize=(10, max_rows))\n",
    "        cmap = sns.diverging_palette(230, 0, 90, 60, as_cmap=True)\n",
    "\n",
    "        # iterate over arch weights and create heatmaps\n",
    "        for ax_id, (u, v, cell_name) in enumerate(list(edge_info.keys())[start_id:start_id+n_rows]): \n",
    "            map = sns.heatmap(\n",
    "                edge_info[(u, v, cell_name)]['alphas'].T,\n",
    "                cmap=cmap, \n",
    "                vmin=min_soft,\n",
    "                vmax=max_soft, \n",
    "                ax=axes[ax_id],\n",
    "                cbar=True\n",
    "            )\n",
    "\n",
    "            op_names = edge_info[(u, v, cell_name)]['op_names']\n",
    "\n",
    "            if ax_id < n_rows-1:        \n",
    "                axes[ax_id].set_xticks([])\n",
    "            axes[ax_id].set_ylabel(f\"{u, v}\", fontdict=dict(fontsize=6))\n",
    "            axes[ax_id].set_yticks(np.arange(len(op_names)) + 0.5)\n",
    "            fontsize = max(6, 40/len(op_names))\n",
    "            axes[ax_id].set_yticklabels(op_names, rotation=360, fontdict=dict(fontsize=fontsize))\n",
    "            if cell_name != \"\":\n",
    "                axes[ax_id].set_title(cell_name, fontdict=dict(fontsize=6))\n",
    "            cbar = map.collections[0].colorbar\n",
    "            cbar.ax.tick_params(labelsize=6)\n",
    "            cbar.ax.set_title('softmax', fontdict=dict(fontsize=6))\n",
    "\n",
    "        axes[ax_id].xaxis.set_tick_params(labelsize=6)\n",
    "        axes[ax_id].set_xlabel(\"Epoch\", fontdict=dict(fontsize=6))\n",
    "\n",
    "        fig.suptitle(f\"optimizer: {config.optimizer}, search space: {config.search_space}, dataset: {config.dataset}, seed: {config.seed}\")\n",
    "        fig.tight_layout()\n",
    "        fig.savefig(f\"{config.save}/arch_weights_{start_id+1}to{start_id+n_rows}.png\", dpi=300)\n",
    "\n"
   ]
  },
  {
   "cell_type": "markdown",
   "metadata": {},
   "source": [
    "## Neural architecture search"
   ]
  },
  {
   "cell_type": "code",
   "execution_count": 3,
   "metadata": {
    "scrolled": true
   },
   "outputs": [
    {
     "name": "stdout",
     "output_type": "stream",
     "text": [
      "\u001b[32m[05/06 21:57:29 nl.defaults.trainer]: \u001b[0mBeginning search\n",
      "batch_size 16\n",
      "Available at: /home/mikhail/data/audiospikes/shd_train.h5\n",
      "Available at: /home/mikhail/data/audiospikes/shd_test.h5\n",
      "Input shape:  (16312, 100, 350) Output shape:  (16312,) Number of samples:  16312\n",
      "Input shape:  (4528, 100, 350) Output shape:  (4528,) Number of samples:  4528\n",
      "starting training, epochs:\n"
     ]
    },
    {
     "name": "stderr",
     "output_type": "stream",
     "text": [
      "\r",
      "  0%|                                                                      | 0/3 [00:00<?, ?it/s]"
     ]
    },
    {
     "name": "stdout",
     "output_type": "stream",
     "text": [
      "\u001b[32m[05/06 21:57:38 nl.optimizers.oneshot.darts.optimizer]: \u001b[0mArch weights (alphas, last column argmax): \n",
      "-0.001058, +0.000593, 1\n",
      "+0.000809, -0.001888, 0\n",
      "+0.000858, +0.001197, 1\n",
      "+0.000239, +0.000327, -0.001333, -0.001799, +0.000084, -0.001355, 1\n",
      "+0.001409, +0.000013, 0\n",
      "-0.000658, -0.001422, 0\n",
      "+0.000175, -0.001056, -0.000257, +0.001277, +0.000467, -0.000251, 3\n",
      "-0.001491, +0.000291, 1\n",
      "+0.000602, -0.001639, +0.001132, +0.000752, -0.000729, +0.001926, 5\n"
     ]
    },
    {
     "name": "stderr",
     "output_type": "stream",
     "text": [
      "\n",
      "  0%|                                                                      | 0/5 [00:00<?, ?it/s]\u001b[A"
     ]
    },
    {
     "name": "stdout",
     "output_type": "stream",
     "text": [
      "\u001b[32m[05/06 21:57:39 nl.defaults.trainer]: \u001b[0mEpoch 0-0, Train loss: 2.99349, validation loss: 2.99602, learning rate: [0.025]\n",
      "\u001b[32m[05/06 21:57:39 nl.defaults.trainer]: \u001b[0mcuda consumption\n",
      " |===========================================================================|\n",
      "|                  PyTorch CUDA memory summary, device ID 0                 |\n",
      "|---------------------------------------------------------------------------|\n",
      "|            CUDA OOMs: 0            |        cudaMalloc retries: 0         |\n",
      "|===========================================================================|\n",
      "|        Metric         | Cur Usage  | Peak Usage | Tot Alloc  | Tot Freed  |\n",
      "|---------------------------------------------------------------------------|\n",
      "| Allocated memory      |      0 B   |      0 B   |      0 B   |      0 B   |\n",
      "|       from large pool |      0 B   |      0 B   |      0 B   |      0 B   |\n",
      "|       from small pool |      0 B   |      0 B   |      0 B   |      0 B   |\n",
      "|---------------------------------------------------------------------------|\n",
      "| Active memory         |      0 B   |      0 B   |      0 B   |      0 B   |\n",
      "|       from large pool |      0 B   |      0 B   |      0 B   |      0 B   |\n",
      "|       from small pool |      0 B   |      0 B   |      0 B   |      0 B   |\n",
      "|---------------------------------------------------------------------------|\n",
      "| GPU reserved memory   |      0 B   |      0 B   |      0 B   |      0 B   |\n",
      "|       from large pool |      0 B   |      0 B   |      0 B   |      0 B   |\n",
      "|       from small pool |      0 B   |      0 B   |      0 B   |      0 B   |\n",
      "|---------------------------------------------------------------------------|\n",
      "| Non-releasable memory |      0 B   |      0 B   |      0 B   |      0 B   |\n",
      "|       from large pool |      0 B   |      0 B   |      0 B   |      0 B   |\n",
      "|       from small pool |      0 B   |      0 B   |      0 B   |      0 B   |\n",
      "|---------------------------------------------------------------------------|\n",
      "| Allocations           |       0    |       0    |       0    |       0    |\n",
      "|       from large pool |       0    |       0    |       0    |       0    |\n",
      "|       from small pool |       0    |       0    |       0    |       0    |\n",
      "|---------------------------------------------------------------------------|\n",
      "| Active allocs         |       0    |       0    |       0    |       0    |\n",
      "|       from large pool |       0    |       0    |       0    |       0    |\n",
      "|       from small pool |       0    |       0    |       0    |       0    |\n",
      "|---------------------------------------------------------------------------|\n",
      "| GPU reserved segments |       0    |       0    |       0    |       0    |\n",
      "|       from large pool |       0    |       0    |       0    |       0    |\n",
      "|       from small pool |       0    |       0    |       0    |       0    |\n",
      "|---------------------------------------------------------------------------|\n",
      "| Non-releasable allocs |       0    |       0    |       0    |       0    |\n",
      "|       from large pool |       0    |       0    |       0    |       0    |\n",
      "|       from small pool |       0    |       0    |       0    |       0    |\n",
      "|---------------------------------------------------------------------------|\n",
      "| Oversize allocations  |       0    |       0    |       0    |       0    |\n",
      "|---------------------------------------------------------------------------|\n",
      "| Oversize GPU segments |       0    |       0    |       0    |       0    |\n",
      "|===========================================================================|\n",
      "\n"
     ]
    },
    {
     "name": "stderr",
     "output_type": "stream",
     "text": [
      "\n",
      " 20%|████████████▍                                                 | 1/5 [00:01<00:06,  1.51s/it]\u001b[A"
     ]
    },
    {
     "name": "stdout",
     "output_type": "stream",
     "text": [
      "\u001b[32m[05/06 21:57:41 nl.defaults.trainer]: \u001b[0mcuda consumption\n",
      " |===========================================================================|\n",
      "|                  PyTorch CUDA memory summary, device ID 0                 |\n",
      "|---------------------------------------------------------------------------|\n",
      "|            CUDA OOMs: 0            |        cudaMalloc retries: 0         |\n",
      "|===========================================================================|\n",
      "|        Metric         | Cur Usage  | Peak Usage | Tot Alloc  | Tot Freed  |\n",
      "|---------------------------------------------------------------------------|\n",
      "| Allocated memory      |      0 B   |      0 B   |      0 B   |      0 B   |\n",
      "|       from large pool |      0 B   |      0 B   |      0 B   |      0 B   |\n",
      "|       from small pool |      0 B   |      0 B   |      0 B   |      0 B   |\n",
      "|---------------------------------------------------------------------------|\n",
      "| Active memory         |      0 B   |      0 B   |      0 B   |      0 B   |\n",
      "|       from large pool |      0 B   |      0 B   |      0 B   |      0 B   |\n",
      "|       from small pool |      0 B   |      0 B   |      0 B   |      0 B   |\n",
      "|---------------------------------------------------------------------------|\n",
      "| GPU reserved memory   |      0 B   |      0 B   |      0 B   |      0 B   |\n",
      "|       from large pool |      0 B   |      0 B   |      0 B   |      0 B   |\n",
      "|       from small pool |      0 B   |      0 B   |      0 B   |      0 B   |\n",
      "|---------------------------------------------------------------------------|\n",
      "| Non-releasable memory |      0 B   |      0 B   |      0 B   |      0 B   |\n",
      "|       from large pool |      0 B   |      0 B   |      0 B   |      0 B   |\n",
      "|       from small pool |      0 B   |      0 B   |      0 B   |      0 B   |\n",
      "|---------------------------------------------------------------------------|\n",
      "| Allocations           |       0    |       0    |       0    |       0    |\n",
      "|       from large pool |       0    |       0    |       0    |       0    |\n",
      "|       from small pool |       0    |       0    |       0    |       0    |\n",
      "|---------------------------------------------------------------------------|\n",
      "| Active allocs         |       0    |       0    |       0    |       0    |\n",
      "|       from large pool |       0    |       0    |       0    |       0    |\n",
      "|       from small pool |       0    |       0    |       0    |       0    |\n",
      "|---------------------------------------------------------------------------|\n",
      "| GPU reserved segments |       0    |       0    |       0    |       0    |\n",
      "|       from large pool |       0    |       0    |       0    |       0    |\n",
      "|       from small pool |       0    |       0    |       0    |       0    |\n",
      "|---------------------------------------------------------------------------|\n",
      "| Non-releasable allocs |       0    |       0    |       0    |       0    |\n",
      "|       from large pool |       0    |       0    |       0    |       0    |\n",
      "|       from small pool |       0    |       0    |       0    |       0    |\n",
      "|---------------------------------------------------------------------------|\n",
      "| Oversize allocations  |       0    |       0    |       0    |       0    |\n",
      "|---------------------------------------------------------------------------|\n",
      "| Oversize GPU segments |       0    |       0    |       0    |       0    |\n",
      "|===========================================================================|\n",
      "\n"
     ]
    },
    {
     "name": "stderr",
     "output_type": "stream",
     "text": [
      "\n",
      " 40%|████████████████████████▊                                     | 2/5 [00:02<00:04,  1.37s/it]\u001b[A"
     ]
    },
    {
     "name": "stdout",
     "output_type": "stream",
     "text": [
      "\u001b[32m[05/06 21:57:42 nl.defaults.trainer]: \u001b[0mcuda consumption\n",
      " |===========================================================================|\n",
      "|                  PyTorch CUDA memory summary, device ID 0                 |\n",
      "|---------------------------------------------------------------------------|\n",
      "|            CUDA OOMs: 0            |        cudaMalloc retries: 0         |\n",
      "|===========================================================================|\n",
      "|        Metric         | Cur Usage  | Peak Usage | Tot Alloc  | Tot Freed  |\n",
      "|---------------------------------------------------------------------------|\n",
      "| Allocated memory      |      0 B   |      0 B   |      0 B   |      0 B   |\n",
      "|       from large pool |      0 B   |      0 B   |      0 B   |      0 B   |\n",
      "|       from small pool |      0 B   |      0 B   |      0 B   |      0 B   |\n",
      "|---------------------------------------------------------------------------|\n",
      "| Active memory         |      0 B   |      0 B   |      0 B   |      0 B   |\n",
      "|       from large pool |      0 B   |      0 B   |      0 B   |      0 B   |\n",
      "|       from small pool |      0 B   |      0 B   |      0 B   |      0 B   |\n",
      "|---------------------------------------------------------------------------|\n",
      "| GPU reserved memory   |      0 B   |      0 B   |      0 B   |      0 B   |\n",
      "|       from large pool |      0 B   |      0 B   |      0 B   |      0 B   |\n",
      "|       from small pool |      0 B   |      0 B   |      0 B   |      0 B   |\n",
      "|---------------------------------------------------------------------------|\n",
      "| Non-releasable memory |      0 B   |      0 B   |      0 B   |      0 B   |\n",
      "|       from large pool |      0 B   |      0 B   |      0 B   |      0 B   |\n",
      "|       from small pool |      0 B   |      0 B   |      0 B   |      0 B   |\n",
      "|---------------------------------------------------------------------------|\n",
      "| Allocations           |       0    |       0    |       0    |       0    |\n",
      "|       from large pool |       0    |       0    |       0    |       0    |\n",
      "|       from small pool |       0    |       0    |       0    |       0    |\n",
      "|---------------------------------------------------------------------------|\n",
      "| Active allocs         |       0    |       0    |       0    |       0    |\n",
      "|       from large pool |       0    |       0    |       0    |       0    |\n",
      "|       from small pool |       0    |       0    |       0    |       0    |\n",
      "|---------------------------------------------------------------------------|\n",
      "| GPU reserved segments |       0    |       0    |       0    |       0    |\n",
      "|       from large pool |       0    |       0    |       0    |       0    |\n",
      "|       from small pool |       0    |       0    |       0    |       0    |\n",
      "|---------------------------------------------------------------------------|\n",
      "| Non-releasable allocs |       0    |       0    |       0    |       0    |\n",
      "|       from large pool |       0    |       0    |       0    |       0    |\n",
      "|       from small pool |       0    |       0    |       0    |       0    |\n",
      "|---------------------------------------------------------------------------|\n",
      "| Oversize allocations  |       0    |       0    |       0    |       0    |\n",
      "|---------------------------------------------------------------------------|\n",
      "| Oversize GPU segments |       0    |       0    |       0    |       0    |\n",
      "|===========================================================================|\n",
      "\n"
     ]
    },
    {
     "name": "stderr",
     "output_type": "stream",
     "text": [
      "\n",
      " 60%|█████████████████████████████████████▏                        | 3/5 [00:04<00:02,  1.32s/it]\u001b[A\n",
      " 80%|█████████████████████████████████████████████████▌            | 4/5 [00:05<00:01,  1.38s/it]\u001b[A"
     ]
    },
    {
     "name": "stdout",
     "output_type": "stream",
     "text": [
      "\u001b[32m[05/06 21:57:45 nl.defaults.trainer]: \u001b[0mEpoch 0-4, Train loss: 2.98505, validation loss: 2.99060, learning rate: [0.025]\n"
     ]
    },
    {
     "name": "stderr",
     "output_type": "stream",
     "text": [
      "\n",
      "100%|██████████████████████████████████████████████████████████████| 5/5 [00:06<00:00,  1.37s/it]\u001b[A"
     ]
    },
    {
     "name": "stdout",
     "output_type": "stream",
     "text": [
      "\u001b[32m[05/06 21:57:45 nl.optimizers.oneshot.darts.optimizer]: \u001b[0mArch weights before discretization: [Parameter containing:\n",
      "tensor([ 0.0029, -0.0032], device='cuda:1', requires_grad=True), Parameter containing:\n",
      "tensor([ 0.1297, -0.1307], device='cuda:1', requires_grad=True), Parameter containing:\n",
      "tensor([-0.0632,  0.0643], device='cuda:1', requires_grad=True), Parameter containing:\n",
      "tensor([-0.0533, -0.1024,  0.0866, -0.0287, -0.0615, -0.1540], device='cuda:1',\n",
      "       requires_grad=True), Parameter containing:\n",
      "tensor([ 0.0575, -0.0563], device='cuda:1', requires_grad=True), Parameter containing:\n",
      "tensor([ 0.0192, -0.0210], device='cuda:1', requires_grad=True), Parameter containing:\n",
      "tensor([-0.1255, -0.0626,  0.0947, -0.0122, -0.0618, -0.0558], device='cuda:1',\n",
      "       requires_grad=True), Parameter containing:\n",
      "tensor([ 0.0136, -0.0146], device='cuda:1', requires_grad=True), Parameter containing:\n",
      "tensor([ 0.0378, -0.0328, -0.0100, -0.0043, -0.0432, -0.0055], device='cuda:1',\n",
      "       requires_grad=True)]\n"
     ]
    },
    {
     "name": "stderr",
     "output_type": "stream",
     "text": [
      "\n"
     ]
    },
    {
     "name": "stdout",
     "output_type": "stream",
     "text": [
      "anytime_results 2.989964485168457 <class 'float'>\n",
      "\u001b[32m[05/06 21:57:45 nl.defaults.trainer]: \u001b[0mEpoch 0, Anytime results: 2.989964485168457\n",
      "\u001b[32m[05/06 21:57:45 nl.defaults.trainer]: \u001b[0mEpoch 0 done. Train accuracy: 2.85714, Validation accuracy: 1.25000\n"
     ]
    },
    {
     "name": "stderr",
     "output_type": "stream",
     "text": [
      "\r",
      " 33%|████████████████████▋                                         | 1/3 [00:07<00:14,  7.11s/it]"
     ]
    },
    {
     "name": "stdout",
     "output_type": "stream",
     "text": [
      "\u001b[32m[05/06 21:57:45 nl.optimizers.oneshot.darts.optimizer]: \u001b[0mArch weights (alphas, last column argmax): \n",
      "+0.002889, -0.003201, 0\n",
      "+0.129747, -0.130710, 0\n",
      "-0.063162, +0.064252, 1\n",
      "-0.053322, -0.102445, +0.086584, -0.028707, -0.061503, -0.154019, 2\n",
      "+0.057457, -0.056319, 0\n",
      "+0.019202, -0.020985, 0\n",
      "-0.125524, -0.062646, +0.094724, -0.012225, -0.061820, -0.055841, 2\n",
      "+0.013554, -0.014561, 0\n",
      "+0.037846, -0.032838, -0.009984, -0.004307, -0.043201, -0.005461, 0\n"
     ]
    },
    {
     "name": "stderr",
     "output_type": "stream",
     "text": [
      "\n",
      "  0%|                                                                      | 0/5 [00:00<?, ?it/s]\u001b[A\n",
      " 20%|████████████▍                                                 | 1/5 [00:01<00:05,  1.29s/it]\u001b[A\n",
      " 40%|████████████████████████▊                                     | 2/5 [00:02<00:03,  1.30s/it]\u001b[A\n",
      " 60%|█████████████████████████████████████▏                        | 3/5 [00:03<00:02,  1.28s/it]\u001b[A"
     ]
    },
    {
     "name": "stdout",
     "output_type": "stream",
     "text": [
      "\u001b[32m[05/06 21:57:50 nl.defaults.trainer]: \u001b[0mEpoch 1-3, Train loss: 2.93578, validation loss: 3.01070, learning rate: [0.019000000000000003]\n"
     ]
    },
    {
     "name": "stderr",
     "output_type": "stream",
     "text": [
      "\n",
      " 80%|█████████████████████████████████████████████████▌            | 4/5 [00:05<00:01,  1.27s/it]\u001b[A\n",
      "100%|██████████████████████████████████████████████████████████████| 5/5 [00:06<00:00,  1.31s/it]\u001b[A"
     ]
    },
    {
     "name": "stdout",
     "output_type": "stream",
     "text": [
      "\u001b[32m[05/06 21:57:51 nl.optimizers.oneshot.darts.optimizer]: \u001b[0mArch weights before discretization: [Parameter containing:\n",
      "tensor([ 0.0849, -0.0851], device='cuda:1', requires_grad=True), Parameter containing:\n",
      "tensor([ 0.2269, -0.2277], device='cuda:1', requires_grad=True), Parameter containing:\n",
      "tensor([ 0.0118, -0.0113], device='cuda:1', requires_grad=True), Parameter containing:\n",
      "tensor([-0.0452, -0.1024,  0.0973, -0.0712, -0.0529, -0.1420], device='cuda:1',\n",
      "       requires_grad=True), Parameter containing:\n",
      "tensor([ 0.1154, -0.1146], device='cuda:1', requires_grad=True), Parameter containing:\n",
      "tensor([ 0.0036, -0.0050], device='cuda:1', requires_grad=True), Parameter containing:\n",
      "tensor([-0.0591, -0.0926,  0.0867, -0.0612, -0.1029,  0.0208], device='cuda:1',\n",
      "       requires_grad=True), Parameter containing:\n",
      "tensor([-0.0262,  0.0254], device='cuda:1', requires_grad=True), Parameter containing:\n",
      "tensor([ 0.0476, -0.0298, -0.0003, -0.0499, -0.0568,  0.0088], device='cuda:1',\n",
      "       requires_grad=True)]\n"
     ]
    },
    {
     "name": "stderr",
     "output_type": "stream",
     "text": [
      "\n"
     ]
    },
    {
     "name": "stdout",
     "output_type": "stream",
     "text": [
      "anytime_results 3.018465518951416 <class 'float'>\n",
      "\u001b[32m[05/06 21:57:52 nl.defaults.trainer]: \u001b[0mEpoch 1, Anytime results: 3.018465518951416\n",
      "\u001b[32m[05/06 21:57:52 nl.defaults.trainer]: \u001b[0mEpoch 1 done. Train accuracy: 14.28571, Validation accuracy: 6.25000\n"
     ]
    },
    {
     "name": "stderr",
     "output_type": "stream",
     "text": [
      "\r",
      " 67%|█████████████████████████████████████████▎                    | 2/3 [00:13<00:06,  6.94s/it]"
     ]
    },
    {
     "name": "stdout",
     "output_type": "stream",
     "text": [
      "\u001b[32m[05/06 21:57:52 nl.optimizers.oneshot.darts.optimizer]: \u001b[0mArch weights (alphas, last column argmax): \n",
      "+0.084897, -0.085087, 0\n",
      "+0.226946, -0.227716, 0\n",
      "+0.011848, -0.011313, 0\n",
      "-0.045213, -0.102448, +0.097253, -0.071199, -0.052939, -0.142049, 2\n",
      "+0.115425, -0.114598, 0\n",
      "+0.003623, -0.005015, 0\n",
      "-0.059109, -0.092631, +0.086651, -0.061170, -0.102922, +0.020777, 2\n",
      "-0.026175, +0.025429, 1\n",
      "+0.047596, -0.029799, -0.000304, -0.049922, -0.056765, +0.008777, 0\n"
     ]
    },
    {
     "name": "stderr",
     "output_type": "stream",
     "text": [
      "\n",
      "  0%|                                                                      | 0/5 [00:00<?, ?it/s]\u001b[A\n",
      " 20%|████████████▍                                                 | 1/5 [00:01<00:05,  1.27s/it]\u001b[A\n",
      " 40%|████████████████████████▊                                     | 2/5 [00:02<00:03,  1.28s/it]\u001b[A"
     ]
    },
    {
     "name": "stdout",
     "output_type": "stream",
     "text": [
      "\u001b[32m[05/06 21:57:56 nl.defaults.trainer]: \u001b[0mEpoch 2-2, Train loss: 2.93422, validation loss: 3.02291, learning rate: [0.007000000000000004]\n"
     ]
    },
    {
     "name": "stderr",
     "output_type": "stream",
     "text": [
      "\n",
      " 60%|█████████████████████████████████████▏                        | 3/5 [00:03<00:02,  1.28s/it]\u001b[A\n",
      " 80%|█████████████████████████████████████████████████▌            | 4/5 [00:05<00:01,  1.28s/it]\u001b[A\n",
      "100%|██████████████████████████████████████████████████████████████| 5/5 [00:06<00:00,  1.28s/it]\u001b[A"
     ]
    },
    {
     "name": "stdout",
     "output_type": "stream",
     "text": [
      "\u001b[32m[05/06 21:57:58 nl.optimizers.oneshot.darts.optimizer]: \u001b[0mArch weights before discretization: [Parameter containing:\n",
      "tensor([ 0.0208, -0.0208], device='cuda:1', requires_grad=True), Parameter containing:\n",
      "tensor([ 0.2166, -0.2170], device='cuda:1', requires_grad=True), Parameter containing:\n",
      "tensor([-0.1110,  0.1113], device='cuda:1', requires_grad=True), Parameter containing:\n",
      "tensor([-0.1234, -0.0150,  0.1358, -0.0748,  0.0109, -0.0428], device='cuda:1',\n",
      "       requires_grad=True), Parameter containing:\n",
      "tensor([ 0.2041, -0.2035], device='cuda:1', requires_grad=True), Parameter containing:\n",
      "tensor([ 0.0342, -0.0353], device='cuda:1', requires_grad=True), Parameter containing:\n",
      "tensor([-0.1160, -0.0993,  0.1696, -0.0675, -0.1325,  0.1685], device='cuda:1',\n",
      "       requires_grad=True), Parameter containing:\n",
      "tensor([ 0.0794, -0.0800], device='cuda:1', requires_grad=True), Parameter containing:\n",
      "tensor([ 0.1611, -0.1187, -0.0793, -0.1601, -0.1553, -0.0191], device='cuda:1',\n",
      "       requires_grad=True)]\n"
     ]
    },
    {
     "name": "stderr",
     "output_type": "stream",
     "text": [
      "\n"
     ]
    },
    {
     "name": "stdout",
     "output_type": "stream",
     "text": [
      "anytime_results 2.9871010780334473 <class 'float'>\n",
      "\u001b[32m[05/06 21:57:59 nl.defaults.trainer]: \u001b[0mEpoch 2, Anytime results: 2.9871010780334473\n",
      "\u001b[32m[05/06 21:57:59 nl.defaults.trainer]: \u001b[0mEpoch 2 done. Train accuracy: 12.85714, Validation accuracy: 7.50000\n"
     ]
    },
    {
     "name": "stderr",
     "output_type": "stream",
     "text": [
      "100%|██████████████████████████████████████████████████████████████| 3/3 [00:20<00:00,  6.93s/it]"
     ]
    },
    {
     "name": "stdout",
     "output_type": "stream",
     "text": [
      "\u001b[32m[05/06 21:57:59 nl.defaults.trainer]: \u001b[0mSaving architectural weight tensors: run/darts/shd/re/0/arch_weights.pt\n",
      "\u001b[32m[05/06 21:57:59 nl.utils.vis]: \u001b[0mCreating plot run/darts/shd/re/0/arch_weights_1to4.png\n"
     ]
    },
    {
     "name": "stderr",
     "output_type": "stream",
     "text": [
      "\n"
     ]
    },
    {
     "name": "stdout",
     "output_type": "stream",
     "text": [
      "\u001b[32m[05/06 21:57:59 nl.utils.vis]: \u001b[0mCreating plot run/darts/shd/re/0/arch_weights_5to8.png\n",
      "\u001b[32m[05/06 21:58:00 nl.utils.vis]: \u001b[0mCreating plot run/darts/shd/re/0/arch_weights_9to9.png\n",
      "\u001b[32m[05/06 21:58:00 nl.defaults.trainer]: \u001b[0mTraining finished\n"
     ]
    },
    {
     "data": {
      "image/png": "[encoded data removed]",
      "text/plain": [
       "<Figure size 1000x400 with 8 Axes>"
      ]
     },
     "metadata": {},
     "output_type": "display_data"
    },
    {
     "data": {
      "image/png": "[encoded data removed]",
      "text/plain": [
       "<Figure size 1000x400 with 8 Axes>"
      ]
     },
     "metadata": {},
     "output_type": "display_data"
    },
    {
     "data": {
      "image/png": "[encoded data removed]",
      "text/plain": [
       "<Figure size 1000x400 with 2 Axes>"
      ]
     },
     "metadata": {},
     "output_type": "display_data"
    }
   ],
   "source": [
    "search_space = naslib.search_spaces.NasBenchSpikingASRSearchSpace()  #NasBenchNLPSearchSpace()\n",
    "\n",
    "config = naslib.utils.get_config_from_args()\n",
    "config.save_arch_weights = True\n",
    "config.plot_arch_weights = True\n",
    "config.save = \"{}/{}/{}/{}/{}\".format(\n",
    "    config.out_dir, config.search_space, config.dataset, config.optimizer, config.seed\n",
    ")\n",
    "naslib.utils.create_exp_dir(config.save)\n",
    "naslib.utils.create_exp_dir(config.save + \"/search\")  # required for the checkpoints\n",
    "naslib.utils.create_exp_dir(config.save + \"/eval\")\n",
    "\n",
    "logger = naslib.utils.setup_logger(config.save + \"/log.log\")\n",
    "logger.setLevel(logging.INFO)  # default DEBUG is very verbose\n",
    "\n",
    "\n",
    "optimizer = naslib.optimizers.DARTSOptimizer(config)\n",
    "optimizer.adapt_search_space(search_space)  \n",
    "optimizer.before_training() # loads the graph to the gpu\n",
    "\n",
    "\n",
    "trainer = naslib.defaults.trainer.Trainer(optimizer, config)\n",
    "# trainer.search(summary_writer=SummaryWriter(\"runs/shd\"))\n",
    "with torch.autograd.set_detect_anomaly(True):\n",
    "    trainer.search(summary_writer=SummaryWriter(\"runs/shd\"))\n",
    "# trainer.evaluate()\n",
    "\n",
    "\n"
   ]
  },
  {
   "cell_type": "code",
   "execution_count": 4,
   "metadata": {
    "scrolled": true
   },
   "outputs": [
    {
     "name": "stdout",
     "output_type": "stream",
     "text": [
      "\u001b[32m[05/06 21:58:01 nl.optimizers.oneshot.darts.optimizer]: \u001b[0mArch weights before discretization: [Parameter containing:\n",
      "tensor([ 0.0208, -0.0208], device='cuda:1', requires_grad=True), Parameter containing:\n",
      "tensor([ 0.2166, -0.2170], device='cuda:1', requires_grad=True), Parameter containing:\n",
      "tensor([-0.1110,  0.1113], device='cuda:1', requires_grad=True), Parameter containing:\n",
      "tensor([-0.1234, -0.0150,  0.1358, -0.0748,  0.0109, -0.0428], device='cuda:1',\n",
      "       requires_grad=True), Parameter containing:\n",
      "tensor([ 0.2041, -0.2035], device='cuda:1', requires_grad=True), Parameter containing:\n",
      "tensor([ 0.0342, -0.0353], device='cuda:1', requires_grad=True), Parameter containing:\n",
      "tensor([-0.1160, -0.0993,  0.1696, -0.0675, -0.1325,  0.1685], device='cuda:1',\n",
      "       requires_grad=True), Parameter containing:\n",
      "tensor([ 0.0794, -0.0800], device='cuda:1', requires_grad=True), Parameter containing:\n",
      "tensor([ 0.1611, -0.1187, -0.0793, -0.1601, -0.1553, -0.0191], device='cuda:1',\n",
      "       requires_grad=True)]\n",
      "\u001b[32m[05/06 21:58:01 nl.defaults.trainer]: \u001b[0mStart evaluation\n",
      "\u001b[32m[05/06 21:58:01 nl.defaults.trainer]: \u001b[0mFinal architecture hash: {}\n"
     ]
    },
    {
     "ename": "AttributeError",
     "evalue": "'Trainer' object has no attribute 'test_queue'",
     "output_type": "error",
     "traceback": [
      "\u001b[0;31m---------------------------------------------------------------------------\u001b[0m",
      "\u001b[0;31mAttributeError\u001b[0m                            Traceback (most recent call last)",
      "Cell \u001b[0;32mIn[4], line 7\u001b[0m\n\u001b[1;32m      1\u001b[0m \u001b[38;5;66;03m# import importlib\u001b[39;00m\n\u001b[1;32m      2\u001b[0m \u001b[38;5;66;03m# import naslib\u001b[39;00m\n\u001b[1;32m      3\u001b[0m \u001b[38;5;66;03m# importlib.reload(naslib)\u001b[39;00m\n\u001b[1;32m      5\u001b[0m best_model \u001b[38;5;241m=\u001b[39m optimizer\u001b[38;5;241m.\u001b[39mget_final_architecture()\n\u001b[0;32m----> 7\u001b[0m \u001b[43mtrainer\u001b[49m\u001b[38;5;241;43m.\u001b[39;49m\u001b[43mevaluate\u001b[49m\u001b[43m(\u001b[49m\u001b[43mbest_arch\u001b[49m\u001b[38;5;241;43m=\u001b[39;49m\u001b[43mbest_model\u001b[49m\u001b[43m,\u001b[49m\u001b[43m \u001b[49m\u001b[43mretrain\u001b[49m\u001b[38;5;241;43m=\u001b[39;49m\u001b[38;5;28;43;01mFalse\u001b[39;49;00m\u001b[43m)\u001b[49m\n",
      "File \u001b[0;32m~/Spiking-NASLib/naslib/defaults/trainer.py:461\u001b[0m, in \u001b[0;36mTrainer.evaluate\u001b[0;34m(self, retrain, search_model, resume_from, best_arch, dataset_api, metric)\u001b[0m\n\u001b[1;32m    457\u001b[0m top5 \u001b[38;5;241m=\u001b[39m utils\u001b[38;5;241m.\u001b[39mAverageMeter()\n\u001b[1;32m    459\u001b[0m best_arch\u001b[38;5;241m.\u001b[39meval()\n\u001b[0;32m--> 461\u001b[0m \u001b[38;5;28;01mfor\u001b[39;00m i, data_test \u001b[38;5;129;01min\u001b[39;00m \u001b[38;5;28menumerate\u001b[39m(\u001b[38;5;28;43mself\u001b[39;49m\u001b[38;5;241;43m.\u001b[39;49m\u001b[43mtest_queue\u001b[49m):\n\u001b[1;32m    462\u001b[0m     input_test, target_test \u001b[38;5;241m=\u001b[39m data_test\n\u001b[1;32m    463\u001b[0m     input_test \u001b[38;5;241m=\u001b[39m input_test\u001b[38;5;241m.\u001b[39mto(\u001b[38;5;28mself\u001b[39m\u001b[38;5;241m.\u001b[39mdevice)\n",
      "\u001b[0;31mAttributeError\u001b[0m: 'Trainer' object has no attribute 'test_queue'"
     ]
    }
   ],
   "source": [
    "# import importlib\n",
    "# import naslib\n",
    "# importlib.reload(naslib)\n",
    "\n",
    "best_model = optimizer.get_final_architecture()\n",
    "\n",
    "trainer.evaluate(best_arch=best_model, retrain=False)"
   ]
  },
  {
   "cell_type": "markdown",
   "metadata": {},
   "source": [
    "## Getting the graph of a continuous model"
   ]
  },
  {
   "cell_type": "code",
   "execution_count": null,
   "metadata": {},
   "outputs": [],
   "source": [
    "\n",
    "logger = logging.getLogger(__name__)\n",
    "\n",
    "arch_weights = torch.load(f'{config.save}/arch_weights.pt')\n",
    "\n",
    "edge_info, min_soft, max_soft = get_edge_info(optimizer, arch_weights, config)\n",
    "edge_info#.keys()\n",
    "\n",
    "edge_info[(1, 2, '')] = {'op_names': ['Identity'],\n",
    "  'alphas': np.array([[1],\n",
    "         [1],\n",
    "         [1]], dtype=np.float32)}\n",
    "edge_info[(3, 4, '')] = {'op_names': ['Identity'],\n",
    "  'alphas': np.array([[1],\n",
    "         [1],\n",
    "         [1]], dtype=np.float32)}\n",
    "edge_info[(5, 6, '')] = {'op_names': ['Identity'],\n",
    "  'alphas': np.array([[1],\n",
    "         [1],\n",
    "         [1]], dtype=np.float32)}\n",
    "\n",
    "\n",
    "G = nx.DiGraph()\n",
    "\n",
    "# Add nodes and edges\n",
    "for (start, end, _), edge_data in edge_info.items():\n",
    "    G.add_edge(start, end, **edge_data)\n",
    "\n",
    "# Plot the graph# Plot the graph\n",
    "pos = {node: (2 * (node % 2),  -1 * node) for node in G.nodes()}  # Arrange nodes in layers\n",
    "# print(pos)\n",
    "nx.draw(G, pos, with_labels=True, node_size=3000, node_color=\"skyblue\", font_size=20, font_weight=\"bold\")\n",
    "\n",
    "def get_op_name(op):\n",
    "    if callable(op):\n",
    "        op = op()\n",
    "    match = re.search(r\"(\\w+)'\", str(op))\n",
    "    return match.group(1) if match else str(op)\n",
    "\n",
    "edge_labels = {\n",
    "    (start, end): f\"{', '.join([get_op_name(op_name) for op_name in edge_data['op_names']])}\\n{', '.join([f'{alpha:.2f}' for alpha in edge_data['alphas'][-1]])}\"\n",
    "    for (start, end, _), edge_data in edge_info.items()\n",
    "}\n",
    "# edge_labels = {\n",
    "#     (start, end): f\"{', '.join([get_op_name(op_name) for op_name in edge_data['op_names']])}\"\n",
    "#     for (start, end, _), edge_data in edge_info.items()\n",
    "# }\n",
    "nx.draw_networkx_edge_labels(G, pos, edge_labels=edge_labels, font_size=8, rotate=False)\n",
    "\n",
    "plt.show()"
   ]
  },
  {
   "cell_type": "markdown",
   "metadata": {},
   "source": [
    "## Getting the graph of a discrete model"
   ]
  },
  {
   "cell_type": "code",
   "execution_count": null,
   "metadata": {},
   "outputs": [],
   "source": [
    "# discretization\n",
    "best_model = optimizer.get_final_architecture()\n",
    "\n",
    "edge_info = {}\n",
    "for graph in best_model._get_child_graphs(single_instances=True):\n",
    "    for u, v, edge_data in graph.edges.data():\n",
    "        if edge_data.has(\"alpha\"):\n",
    "            cell_name = edge_data['cell_name'] if hasattr(edge_data, 'cell_name') else \"\"\n",
    "            edge_info[(u, v, cell_name)] = {}\n",
    "            edge_info[(u, v, cell_name)]['op_names'] = [edge_data.op.get_op_name]\n",
    "            \n",
    "edge_info[(1, 2, '')] = {'op_names': ['Identity'],\n",
    "  'alphas': np.array([[1],\n",
    "         [1],\n",
    "         [1]], dtype=np.float32)}\n",
    "edge_info[(3, 4, '')] = {'op_names': ['Identity'],\n",
    "  'alphas': np.array([[1],\n",
    "         [1],\n",
    "         [1]], dtype=np.float32)}\n",
    "edge_info[(5, 6, '')] = {'op_names': ['Identity'],\n",
    "  'alphas': np.array([[1],\n",
    "         [1],\n",
    "         [1]], dtype=np.float32)}\n",
    "\n",
    "import networkx as nx\n",
    "import matplotlib.pyplot as plt\n",
    "import re\n",
    "\n",
    "\n",
    "G = nx.DiGraph()\n",
    "\n",
    "# Add nodes and edges\n",
    "for (start, end, _), edge_data in edge_info.items():\n",
    "    G.add_edge(start, end, **edge_data)\n",
    "\n",
    "# Plot the graph# Plot the graph\n",
    "pos = {node: (2 * (node % 2),  -1 * node) for node in G.nodes()}  # Arrange nodes in layers\n",
    "# print(pos)\n",
    "nx.draw(G, pos, with_labels=True, node_size=3000, node_color=\"skyblue\", font_size=20, font_weight=\"bold\")\n",
    "\n",
    "def get_op_name(op):\n",
    "    if callable(op):\n",
    "        op = op()\n",
    "    match = re.search(r\"(\\w+)'\", str(op))\n",
    "    return match.group(1) if match else str(op)\n",
    "\n",
    "\n",
    "edge_labels = {\n",
    "    (start, end): f\"{', '.join([get_op_name(op_name) for op_name in edge_data['op_names']])}\"\n",
    "    for (start, end, _), edge_data in edge_info.items()\n",
    "}\n",
    "\n",
    "\n",
    "nx.draw_networkx_edge_labels(G, pos, edge_labels=edge_labels, font_size=8, rotate=False)\n",
    "\n",
    "plt.show()"
   ]
  },
  {
   "cell_type": "code",
   "execution_count": null,
   "metadata": {},
   "outputs": [],
   "source": [
    "best_model"
   ]
  },
  {
   "cell_type": "code",
   "execution_count": null,
   "metadata": {},
   "outputs": [],
   "source": [
    "res = optimizer.test_statistics()\n",
    "print(res)"
   ]
  },
  {
   "cell_type": "code",
   "execution_count": null,
   "metadata": {},
   "outputs": [],
   "source": [
    "import numpy as np\n",
    "\n",
    "arch_weights = torch.load(f'{config.save}/arch_weights.pt')\n",
    "max_rows = 4\n",
    "for start_id in range(0, len(edge_info.keys()), max_rows):\n",
    "        \n",
    "    # calculate number of rows in plot\n",
    "    n_rows = min(max_rows, len(edge_info.keys())-start_id)\n",
    "    logger.info(f\"Creating plot {config.save}/arch_weights_{start_id+1}to{start_id+n_rows}.png\")\n",
    "\n",
    "    # define figure and axes and NASLib colormap\n",
    "    fig, axes = plt.subplots(nrows=n_rows, figsize=(10, max_rows))\n",
    "    cmap = sns.diverging_palette(230, 0, 90, 60, as_cmap=True)\n",
    "\n",
    "    # When there's only one row, axes will be an 'Axes' object and not an array\n",
    "    # We convert it into a 1-element list in that case\n",
    "    if n_rows == 1:\n",
    "        axes = [axes]\n",
    "\n",
    "    for ax_id, (u, v, cell_name) in enumerate(list(edge_info.keys())[start_id:start_id+n_rows]):\n",
    "        ax = axes[ax_id]\n",
    "\n",
    "        map = sns.heatmap(\n",
    "            edge_info[(u, v, cell_name)]['alphas'].T,\n",
    "            cmap=cmap,\n",
    "            vmin=min_soft,\n",
    "            vmax=max_soft,\n",
    "            ax=ax,  # Use the correct axes\n",
    "            cbar=True\n",
    "        )\n",
    "        op_names = edge_info[(u, v, cell_name)]['op_names']\n",
    "        op_names = [get_op_name(op_name) for op_name in op_names]\n",
    "        if ax_id < n_rows-1:        \n",
    "            axes[ax_id].set_xticks([])\n",
    "        axes[ax_id].set_ylabel(f\"{u, v}\", fontdict=dict(fontsize=6))\n",
    "        axes[ax_id].set_yticks(np.arange(len(op_names)) + 0.5)\n",
    "        fontsize = max(6, 40/len(op_names))\n",
    "        axes[ax_id].set_yticklabels(op_names, rotation=360, fontdict=dict(fontsize=fontsize))\n",
    "        if cell_name != \"\":\n",
    "                axes[ax_id].set_title(cell_name, fontdict=dict(fontsize=6))\n",
    "        cbar = map.collections[0].colorbar\n",
    "        cbar.ax.tick_params(labelsize=6)\n",
    "        cbar.ax.set_title('softmax', fontdict=dict(fontsize=6))\n",
    "\n",
    "    axes[ax_id].xaxis.set_tick_params(labelsize=6)\n",
    "    axes[ax_id].set_xlabel(\"Epoch\", fontdict=dict(fontsize=6))\n",
    "\n",
    "    fig.suptitle(f\"optimizer: {config.optimizer}, search space: {config.search_space}, dataset: {config.dataset}, seed: {config.seed}\")\n",
    "    fig.tight_layout()\n",
    "    fig.savefig(f\"{config.save}/arch_weights_{start_id+1}to{start_id+n_rows}.png\", dpi=300)\n",
    "\n",
    "# plot_architectural_weights(config, optimizer)\n"
   ]
  },
  {
   "cell_type": "code",
   "execution_count": null,
   "metadata": {},
   "outputs": [],
   "source": [
    "arch_weights = torch.load(f'{config.save}/arch_weights.pt')\n",
    "max_rows = 4\n",
    "for start_id in range(0, len(edge_info.keys()), max_rows):\n",
    "        \n",
    "        # calculate number of rows in plot\n",
    "        n_rows = min(max_rows, len(edge_info.keys())-start_id)\n",
    "        logger.info(f\"Creating plot {config.save}/arch_weights_{start_id+1}to{start_id+n_rows}.png\")\n",
    "\n",
    "        # define figure and axes and NASLib colormap\n",
    "        fig, axes = plt.subplots(nrows=n_rows, figsize=(10, max_rows))\n",
    "        cmap = sns.diverging_palette(230, 0, 90, 60, as_cmap=True)\n",
    "\n",
    "        # iterate over arch weights and create heatmaps\n",
    "        is_2d_axes = np.ndim(axes) == 2\n",
    "\n",
    "        # Your loop starts here\n",
    "        for ax_id, (u, v, cell_name) in enumerate(list(edge_info.keys())[start_id:start_id+n_rows]):\n",
    "            # Get the correct axes based on the dimensions\n",
    "            ax = axes[ax_id] if not is_2d_axes else axes[ax_id // ncols, ax_id % ncols]\n",
    "\n",
    "            map = sns.heatmap(\n",
    "                edge_info[(u, v, cell_name)]['alphas'].T,\n",
    "                cmap=cmap,\n",
    "                vmin=min_soft,\n",
    "                vmax=max_soft,\n",
    "                ax=ax,  # Use the correct axes\n",
    "                cbar=True\n",
    "            )\n",
    "            op_names = edge_info[(u, v, cell_name)]['op_names']\n",
    "\n",
    "            if ax_id < n_rows-1:        \n",
    "                axes[ax_id].set_xticks([])\n",
    "            axes[ax_id].set_ylabel(f\"{u, v}\", fontdict=dict(fontsize=6))\n",
    "            axes[ax_id].set_yticks(np.arange(len(op_names)) + 0.5)\n",
    "            fontsize = max(6, 40/len(op_names))\n",
    "            axes[ax_id].set_yticklabels(op_names, rotation=360, fontdict=dict(fontsize=fontsize))\n",
    "            if cell_name != \"\":\n",
    "                axes[ax_id].set_title(cell_name, fontdict=dict(fontsize=6))\n",
    "            cbar = map.collections[0].colorbar\n",
    "            cbar.ax.tick_params(labelsize=6)\n",
    "            cbar.ax.set_title('softmax', fontdict=dict(fontsize=6))\n",
    "\n",
    "        axes[ax_id].xaxis.set_tick_params(labelsize=6)\n",
    "        axes[ax_id].set_xlabel(\"Epoch\", fontdict=dict(fontsize=6))\n",
    "\n",
    "        fig.suptitle(f\"optimizer: {config.optimizer}, search space: {config.search_space}, dataset: {config.dataset}, seed: {config.seed}\")\n",
    "        fig.tight_layout()\n",
    "        fig.savefig(f\"{config.save}/arch_weights_{start_id+1}to{start_id+n_rows}.png\", dpi=300)\n",
    "\n",
    "plot_architectural_weights(config, optimizer)"
   ]
  },
  {
   "cell_type": "code",
   "execution_count": null,
   "metadata": {},
   "outputs": [],
   "source": [
    "import pickle\n",
    "pickle.dump(trainer, open(\"trainer.pkl\", \"wb\"))\n",
    "pickle.dump(optimizer, open(\"optimizer.pkl\", \"wb\"))\n"
   ]
  },
  {
   "cell_type": "code",
   "execution_count": null,
   "metadata": {},
   "outputs": [],
   "source": [
    "trainer = pickle.load(open(\"trainer.pkl\", \"rb\"))\n",
    "optimizer = pickle.load(open(\"optimizer.pkl\", \"rb\"))"
   ]
  },
  {
   "cell_type": "code",
   "execution_count": null,
   "metadata": {},
   "outputs": [],
   "source": [
    "arch_weights"
   ]
  },
  {
   "cell_type": "code",
   "execution_count": null,
   "metadata": {},
   "outputs": [],
   "source": [
    "print(arch_weights.keys())\n",
    "\n",
    "print(type(arch_weights['model']), arch_weights['model'].keys(), type(arch_weights['iteration']))"
   ]
  },
  {
   "cell_type": "code",
   "execution_count": null,
   "metadata": {},
   "outputs": [],
   "source": []
  },
  {
   "cell_type": "code",
   "execution_count": null,
   "metadata": {},
   "outputs": [],
   "source": [
    "\n"
   ]
  },
  {
   "cell_type": "code",
   "execution_count": null,
   "metadata": {},
   "outputs": [],
   "source": []
  },
  {
   "cell_type": "code",
   "execution_count": null,
   "metadata": {},
   "outputs": [],
   "source": [
    "trainer.evaluate_oneshot()"
   ]
  },
  {
   "cell_type": "code",
   "execution_count": null,
   "metadata": {},
   "outputs": [],
   "source": [
    "trainer.evaluate()"
   ]
  },
  {
   "cell_type": "code",
   "execution_count": null,
   "metadata": {},
   "outputs": [],
   "source": [
    "import sys\n",
    "\n",
    "sys.path.append(\"..\")\n",
    "# if you encounter ModuleNotFoundError: No module named 'naslib'\n",
    "# then you need to add the naslib directory to your PYTHONPATH\n",
    "# export PYTHONPATH=$PYTHONPATH:/path/to/naslib or export PYTHONPATH=$PYTHONPATH:$pwd\n",
    "\n",
    "from naslib.optimizers import DARTSOptimizer\n",
    "from naslib.search_spaces import NasBenchASRSearchSpace #NasBench301SearchSpace#NasBenchNLPSearchSpace\n",
    "\n",
    "from naslib import utils\n",
    "from naslib.defaults.trainer import Trainer\n",
    "from torch.utils.tensorboard import SummaryWriter\n",
    "import torch\n",
    "\n",
    "\n",
    "search_space = NasBenchASRSearchSpace()  #NasBenchNLPSearchSpace()\n",
    "config = utils.get_config_from_args()\n",
    "optimizer = DARTSOptimizer(config)\n",
    "optimizer.adapt_search_space(search_space)  \n",
    "optimizer.before_training() # loads the graph to the gpu\n",
    "\n",
    "\n",
    "trainer = Trainer(optimizer, config)\n",
    "# trainer.search(summary_writer=SummaryWriter(\"runs/shd\"))\n",
    "with torch.autograd.set_detect_anomaly(True):\n",
    "    trainer.search(summary_writer=SummaryWriter(\"runs/shd\"))\n",
    "trainer.evaluate()\n",
    "\n",
    "\n",
    "# import argparse\n",
    "# import torch\n",
    "# import torch.nn as nn\n",
    "# import torch.optim as optim\n",
    "# from torch.optim.lr_scheduler import CosineAnnealingLR\n",
    "# from torch.utils.data import DataLoader\n",
    "# from torch.utils.data import ConcatDataset\n",
    "# from spiking_data import get_numpy_datasets\n",
    "# train_datasets, test_datasets = get_numpy_datasets(\"shd\", n_inp=100)\n",
    "# train_dataset = ConcatDataset(train_datasets)\n",
    "# test_dataset = ConcatDataset(test_datasets)\n",
    "\n",
    "# train_loader = DataLoader(train_dataset, batch_size=16, shuffle=True)\n",
    "# test_loader = DataLoader(test_dataset, batch_size=16, shuffle=False)\n",
    "# device = torch.device(\"cuda\" if torch.cuda.is_available() else \"cpu\")\n",
    "# search_space.to(device)\n",
    "\n",
    "# config = utils.AttrDict()\n",
    "# config.dataset = 'shd'\n",
    "# config.resume = False\n",
    "# config.search = utils.AttrDict()\n",
    "# config.search.grad_clip = None\n",
    "# config.search.checkpoint_freq = 10\n",
    "# config.search.learning_rate = 0.01\n",
    "# config.search.momentum = 0.1\n",
    "# config.search.weight_decay = 0.1\n",
    "# config.search.arch_learning_rate = 0.01\n",
    "# config.search.arch_weight_decay = 0.1\n",
    "# config.search.tau_max = 10\n",
    "# config.search.tau_min = 1\n",
    "# config.search.epochs = 2\n",
    "# config.search.seed = 42\n",
    "\n",
    "# epochs = 50\n",
    "# lr = 0.025\n",
    "# momentum = 0.9\n",
    "# weight_decay = 3e-4\n",
    "\n",
    "# architect = DARTSOptimizer(config)\n",
    "# optimizer = optim.SGD(search_space.parameters(), lr, momentum=momentum, weight_decay=weight_decay)\n",
    "# scheduler = CosineAnnealingLR(optimizer, epochs)\n",
    "\n",
    "# for epoch in range(1, epochs + 1):\n",
    "#     train_loss = train(train_loader, optimizer, device)\n",
    "#     valid_acc = test(test_loader, search_space, device)\n",
    "#     scheduler.step()\n",
    "#     print(f\"Epoch {epoch}: Loss = {train_loss:.4f}, Validation accuracy = {valid_acc:.4f}\")\n"
   ]
  }
 ],
 "metadata": {
  "kernelspec": {
   "display_name": "Python 3 (ipykernel)",
   "language": "python",
   "name": "python3"
  },
  "language_info": {
   "codemirror_mode": {
    "name": "ipython",
    "version": 3
   },
   "file_extension": ".py",
   "mimetype": "text/x-python",
   "name": "python",
   "nbconvert_exporter": "python",
   "pygments_lexer": "ipython3",
   "version": "3.10.9"
  },
  "vscode": {
   "interpreter": {
    "hash": "c587efa5fd630fdb258f56981accdda8687a21ce1f7b8389a64493b96e75aa6f"
   }
  }
 },
 "nbformat": 4,
 "nbformat_minor": 2
}
